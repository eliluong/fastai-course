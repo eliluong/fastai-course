{
  "nbformat": 4,
  "nbformat_minor": 0,
  "metadata": {
    "colab": {
      "name": "fastai-course-dog-classifier",
      "provenance": [],
      "collapsed_sections": []
    },
    "kernelspec": {
      "name": "python3",
      "display_name": "Python 3"
    },
    "language_info": {
      "name": "python"
    }
  },
  "cells": [
    {
      "cell_type": "code",
      "metadata": {
        "id": "xyvsEXpjBxvj"
      },
      "source": [
        "!pip install -Uqq fastbook\n",
        "import fastbook\n",
        "fastbook.setup_book()"
      ],
      "execution_count": null,
      "outputs": []
    },
    {
      "cell_type": "code",
      "metadata": {
        "id": "3atK44wTD5Tv"
      },
      "source": [
        "from fastbook import *\n",
        "from fastai.vision.widgets import *"
      ],
      "execution_count": null,
      "outputs": []
    },
    {
      "cell_type": "code",
      "metadata": {
        "id": "AcU6M6aLD7QF"
      },
      "source": [
        "from google.colab import drive\n",
        "drive.mount('/content/drive')\n",
        "%cd '/content/drive/My Drive/deeplearning'"
      ],
      "execution_count": null,
      "outputs": []
    },
    {
      "cell_type": "code",
      "metadata": {
        "id": "5uJ3_NkqECDP"
      },
      "source": [
        "path = Path()\n",
        "learn_inf = load_learner(path/'export.pkl')"
      ],
      "execution_count": null,
      "outputs": []
    },
    {
      "cell_type": "code",
      "metadata": {
        "id": "QTrwWgg3EGMq"
      },
      "source": [
        "# create file upload widget\n",
        "button_upload = widgets.FileUpload()\n",
        "# button_upload\n",
        "\n",
        "# display previous variables with Label object\n",
        "label_prediction = widgets.Label()\n",
        "label_prediction.value = f'prediction: {prediction}; probability: {probabilities[prediction_index]:.04f}'\n",
        "# label_prediction\n",
        "\n",
        "# create a button to perform classification\n",
        "button_run = widgets.Button(description='Classify')\n",
        "# button_run"
      ],
      "execution_count": null,
      "outputs": []
    },
    {
      "cell_type": "code",
      "metadata": {
        "id": "SW78-okMEHwA"
      },
      "source": [
        "# generate click event handler for Classify button\n",
        "def on_click_classify(v_change):\n",
        "  img = PILImage.create(button_upload.data[-1])\n",
        "  output_img.clear_output()\n",
        "  with output_img:\n",
        "    display(img.to_thumb(128, 128))\n",
        "  prediction, prediction_index, probabilities = learn_inf.predict(img)\n",
        "  label_prediction.value = f'prediction: {prediction}; probability: {probabilities[prediction_index]:.04f}'\n",
        "\n",
        "button_run.on_click(on_click_classify)"
      ],
      "execution_count": null,
      "outputs": []
    },
    {
      "cell_type": "code",
      "metadata": {
        "id": "Stq0gidQEJI9"
      },
      "source": [
        "# generate UI\n",
        "VBox([widgets.Label('upload dog image'),\n",
        "      button_upload, button_run, output_img, label_prediction])"
      ],
      "execution_count": null,
      "outputs": []
    },
    {
      "cell_type": "code",
      "metadata": {
        "id": "Zw7Okrz6FJP3"
      },
      "source": [
        "!pip install voila\n",
        "!jupyter serverextension enable voila --sys-prefix"
      ],
      "execution_count": null,
      "outputs": []
    }
  ]
}