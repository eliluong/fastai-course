{
  "nbformat": 4,
  "nbformat_minor": 0,
  "metadata": {
    "colab": {
      "name": "fastai-course-dog-classifier",
      "provenance": [],
      "collapsed_sections": []
    },
    "kernelspec": {
      "name": "python3",
      "display_name": "Python 3"
    },
    "language_info": {
      "name": "python"
    },
    "accelerator": "GPU"
  },
  "cells": [
    {
      "cell_type": "code",
      "metadata": {
        "id": "3atK44wTD5Tv"
      },
      "source": [
        "from fastai.data.all import *\n",
        "from fastai.vision.all import *\n",
        "from fastai.vision.widgets import *"
      ],
      "execution_count": null,
      "outputs": []
    },
    {
      "cell_type": "code",
      "metadata": {
        "id": "5uJ3_NkqECDP"
      },
      "source": [
        "learn_inf = load_learner('export.pkl')"
      ],
      "execution_count": 7,
      "outputs": []
    },
    {
      "cell_type": "code",
      "metadata": {
        "id": "QTrwWgg3EGMq"
      },
      "source": [
        "# create file upload widget\n",
        "button_upload = widgets.FileUpload()\n",
        "\n",
        "# display previous variables with Label object\n",
        "label_prediction = widgets.Label()\n",
        "# label_prediction.value = f'prediction: {prediction}; probability: {probabilities[prediction_index]:.04f}'\n",
        "\n",
        "# create a button to perform classification\n",
        "button_run = widgets.Button(description='Classify')\n",
        "\n",
        "# create display widget\n",
        "output_img = widgets.Output()"
      ],
      "execution_count": 8,
      "outputs": []
    },
    {
      "cell_type": "code",
      "metadata": {
        "id": "SW78-okMEHwA"
      },
      "source": [
        "# generate click event handler for Classify button\n",
        "def on_click_classify(v_change):\n",
        "  img = PILImage.create(button_upload.data[-1])\n",
        "  output_img.clear_output()\n",
        "  with output_img:\n",
        "    display(img.to_thumb(128, 128))\n",
        "  prediction, prediction_index, probabilities = learn_inf.predict(img)\n",
        "  label_prediction.value = f'prediction: {prediction}; probability: {probabilities[prediction_index]:.04f}'\n",
        "\n",
        "button_run.on_click(on_click_classify)"
      ],
      "execution_count": 9,
      "outputs": []
    },
    {
      "cell_type": "code",
      "metadata": {
        "id": "Stq0gidQEJI9"
      },
      "source": [
        "# generate UI\n",
        "VBox([widgets.Label('upload dog image'),\n",
        "      button_upload, button_run, output_img, label_prediction])"
      ],
      "execution_count": null,
      "outputs": []
    }
  ]
}